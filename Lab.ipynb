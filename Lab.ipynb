{
 "cells": [
  {
   "cell_type": "code",
   "execution_count": 1,
   "id": "5b179ce6",
   "metadata": {
    "scrolled": false
   },
   "outputs": [
    {
     "name": "stderr",
     "output_type": "stream",
     "text": [
      "2023-04-03 18:59:19.593298: I tensorflow/core/platform/cpu_feature_guard.cc:193] This TensorFlow binary is optimized with oneAPI Deep Neural Network Library (oneDNN) to use the following CPU instructions in performance-critical operations:  SSE4.1 SSE4.2 AVX AVX2 FMA\n",
      "To enable them in other operations, rebuild TensorFlow with the appropriate compiler flags.\n"
     ]
    }
   ],
   "source": [
    "import numpy as np\n",
    "import gzip\n",
    "import re\n",
    "import json\n",
    "import datetime\n",
    "from gensim.models import word2vec\n",
    "from sklearn.feature_extraction.text import CountVectorizer,TfidfTransformer\n",
    "from sklearn.neural_network import MLPClassifier\n",
    "from sklearn.metrics import confusion_matrix, classification_report\n",
    "\n",
    "from sklearn.cluster import KMeans\n",
    "\n",
    "import tensorflow as tf\n",
    "from tensorflow.keras.models import Sequential\n",
    "from tensorflow.keras.layers import Bidirectional, LSTM, Dense, Activation, TimeDistributed\n",
    "\n",
    "import multiprocessing # number of threads\n",
    "\n",
    "import matplotlib.pyplot as plt # plot\n",
    "import matplotlib.gridspec as gridspec\n",
    "\n",
    "from typing import Dict,Any,List,Generator,Tuple"
   ]
  },
  {
   "cell_type": "code",
   "execution_count": 2,
   "id": "1c523f73",
   "metadata": {},
   "outputs": [],
   "source": [
    "class SentimentAnalysis():\n",
    "    def __init__(self, json_file, hidden_layer = (300,50), train_test_split: float = 0.7, random_state: int = None):\n",
    "        self._reviews=json.load(gzip.open(json_file,'rb'))\n",
    "        \n",
    "        # split in train-test\n",
    "        self._test_reviews=self._reviews[int(len(self._reviews)*train_test_split):]\n",
    "        self._reviews=self._reviews[:-len(self._test_reviews)]\n",
    "        \n",
    "        # save variables for the rest of the functions\n",
    "        self._hidden_layer = hidden_layer\n",
    "        self._random_state = random_state\n",
    "        self._train_test_split = train_test_split\n",
    "    \n",
    "    @property\n",
    "    def reviews(self) -> List[Dict[str,Any]]:\n",
    "        return self._reviews\n",
    "    \n",
    "    def padded_reviews(self, vectorizer: word2vec.Word2Vec, batch_size: int = -1, iterate_forever: bool = False) -> Generator[None,Tuple[np.ndarray,np.ndarray],None]:\n",
    "        \"\"\"\n",
    "        Returns all the train reviews in a matrix, padding the sentences so all have the same size\n",
    "        @param vectorizer      Word2Vec object to convert from word to vector\n",
    "        @param batch_size      Number of reviews each returned ndarray has. Use -1 if use all the reviews.\n",
    "        @param iterate_forever If True, it will iterate indefinitely\n",
    "        @return Generator of ndarray of size (<batch_size>,<max words in review>,<Word2Vec return vector lenght>),\n",
    "                and its expected value (<batch_size>,5)\n",
    "        \"\"\"\n",
    "        vector_size = vectorizer.wv[0].shape\n",
    "        reviews = [x['text'] for x in self._reviews]\n",
    "        y_reviews = [int(x['score']) for x in self._reviews]\n",
    "        largest_review_size = self.largest_review_size\n",
    "        if batch_size == -1: batch_size = len(reviews)\n",
    "        \n",
    "        offset = 0\n",
    "        while True:\n",
    "            reviews_slice = reviews[offset*batch_size:(offset+1)*batch_size]\n",
    "            y_reviews_slice = y_reviews[offset*batch_size:(offset+1)*batch_size]\n",
    "            r = np.zeros(shape=( len(reviews_slice),largest_review_size,vector_size[-1] ))\n",
    "            y = np.zeros(shape=( len(reviews_slice),5 ))\n",
    "            \n",
    "            for review_index,review in enumerate(reviews_slice):\n",
    "                review_offset = largest_review_size-len(review) # will help with the padding\n",
    "                for word_index,word in enumerate(review):\n",
    "                    if word in vectorizer.wv: # if not, leave it as 0\n",
    "                        r[review_index,review_offset+word_index,:] = vectorizer.wv[word]\n",
    "                y[review_index,y_reviews_slice[review_index]-1] = 1 # the index is from 1 to 5\n",
    "            \n",
    "            yield (r,y)\n",
    "            \n",
    "            offset += 1\n",
    "            if offset >= len(reviews):\n",
    "                offset = 0\n",
    "                \n",
    "                if not iterate_forever:\n",
    "                    return\n",
    "    \n",
    "    @property\n",
    "    def largest_review_size(self) -> int:\n",
    "        # @ref https://stackoverflow.com/a/1582670/9178470\n",
    "        return len(max(self.review_sentences, key=len))\n",
    "        \n",
    "    @property\n",
    "    def review_sentences(self) -> List[str]:\n",
    "        return [x['text'] for x in self._reviews]\n",
    "    \n",
    "    @property\n",
    "    def num_reviews(self) -> int:\n",
    "        return len(self._reviews)\n",
    "\n",
    "    def train_word2vec_model(self, size: int, window: int = 5, min_count: int = 5, workers: int = -1) -> word2vec.Word2Vec:\n",
    "        \"\"\"\n",
    "        Get a word2vec model according to the input data.\n",
    "        @ref https://radimrehurek.com/gensim/models/word2vec.html#gensim.models.word2vec.Word2Vec\n",
    "        \n",
    "        @param size:      Dimensionality of the word vectors\n",
    "        @param window:    Maximum distance between the current and predicted word\n",
    "        @param min_count: Ignores all words with total frequency lower than this\n",
    "        @param workers:   Use these many worker threads to train the model; -1 to use all\n",
    "        @return Word2Vec model\n",
    "        \n",
    "        \"\"\"\n",
    "        \n",
    "        sentences=self.review_sentences\n",
    "        \n",
    "        if workers == -1:\n",
    "            workers = SentimentAnalysis.get_num_max_workers()\n",
    "            print(f\"[v] Using {workers} workers for the Word2Vec operation...\")\n",
    "            \n",
    "        return word2vec.Word2Vec(sentences, vector_size=size, window=window,\n",
    "                                       min_count=min_count, workers=workers)\n",
    "    \n",
    "    @staticmethod\n",
    "    def get_num_max_workers() -> int:\n",
    "        return multiprocessing.cpu_count()\n",
    "    \n",
    "    @staticmethod\n",
    "    def save_word2vec(model: word2vec.Word2Vec, file_name: str):\n",
    "        model.save(file_name)\n",
    "\n",
    "    @staticmethod\n",
    "    def load_word2vec(file_name: str) -> word2vec.Word2Vec:\n",
    "        return word2vec.Word2Vec.load(file_name)\n",
    "\n",
    "# global variables\n",
    "WORD2VEC_VECTOR_SIZE = 300\n",
    "INPUT_HIDDEN_DIM = 52 # must be a power of 2\n",
    "DENSE_HIDDEN_DIM = (200,50)\n",
    "BATCH_SIZE = 128\n",
    "EPOCHS = 3\n",
    "\n",
    "# create an inscance of the class\n",
    "SaHandler=SentimentAnalysis('data/Watches_withstopwords.json.gz', random_state=1)"
   ]
  },
  {
   "cell_type": "code",
   "execution_count": 3,
   "id": "18eca26b",
   "metadata": {},
   "outputs": [
    {
     "name": "stdout",
     "output_type": "stream",
     "text": [
      "4.0: having owned two previous g shocks in my life including the first series in 1984 i ve long appreciated their quality the main reason i stopped wearing them was simply because the resin straps would break and having worn them for 4 years i grew weary of them however having burned through many fashion watches in the last 10 years i ve been disappointed to spend only to get 1 or 2 years worth of usage so i m back to g shock i think this model g1710d 7av represents a nice blend between good looks and practical durability which most guys really want the face is smaller on my wrist than i expected from a g shock but i think it s still classy for the office the side buttons are hidden in gray plastic which you can t see in picture but the rest of the watch is metal you might find a classier analog face g shock in the 200 300 but this one is a better value the only reason i didn t give it 5 stars is because the led isn t backlight it s an amber light that comes around the inside bevel so the led helps you read the dial hands but not the lcd screens nonetheless it s still a cool light color ps the bottom lcd screen isn t blue as pictured but it s still a different color than the top lcd which adds further distinction to the watch\n"
     ]
    }
   ],
   "source": [
    "print(f\"{SaHandler.reviews[0]['score']}: {' '.join(SaHandler.reviews[0]['text'])}\")"
   ]
  },
  {
   "cell_type": "code",
   "execution_count": 4,
   "id": "eb0cc499",
   "metadata": {
    "scrolled": false
   },
   "outputs": [
    {
     "name": "stdout",
     "output_type": "stream",
     "text": [
      "4187\n",
      "85.73769566762105\n"
     ]
    }
   ],
   "source": [
    "max_input_size = SaHandler.largest_review_size\n",
    "print(max_input_size)\n",
    "\n",
    "avg_lenght = 0\n",
    "for review in SaHandler.review_sentences:\n",
    "    avg_lenght += len(review)\n",
    "avg_lenght = avg_lenght / SaHandler.num_reviews\n",
    "print(avg_lenght)"
   ]
  },
  {
   "cell_type": "markdown",
   "id": "6cc707f4",
   "metadata": {},
   "source": [
    "Here we'll train a Word2Vec model using the train data.\n",
    "Word2Vec will learn word associations from a large corpus of text. It will be able to detect synonymous words,[ref](https://en.wikipedia.org/w/index.php?title=Word2vec&oldid=1143734439) as words are represented by vectors that states the context of that word."
   ]
  },
  {
   "cell_type": "code",
   "execution_count": 5,
   "id": "674e3b7f",
   "metadata": {
    "scrolled": false
   },
   "outputs": [
    {
     "name": "stdout",
     "output_type": "stream",
     "text": [
      "[v] Using 32 workers for the Word2Vec operation...\n"
     ]
    }
   ],
   "source": [
    "word2vec_model = SaHandler.train_word2vec_model(WORD2VEC_VECTOR_SIZE)\n",
    "SentimentAnalysis.save_word2vec(word2vec_model, 'word2vec.bin')\n",
    "word_vectors = word2vec_model.wv"
   ]
  },
  {
   "cell_type": "markdown",
   "id": "63b798ff",
   "metadata": {},
   "source": [
    "What if we visualize the generated word2vec model?\n",
    "In order to do it we'll need some kind of clustering algorithm; we'll use k-Means. I've also tried DBSCAN and OPTICS, as they are other methods found on [sk-learn](https://scikit-learn.org/stable/modules/clustering.html#overview-of-clustering-methods), but it seems like there's no relevant separation to use a density-based algorithm, as they both report one single group.\n",
    "\n",
    "Some information needed to understand what we'll do next:\n",
    "- `Word2Vec#wv.vectors` will return a matrix of `<number of input words> rows x <vector size> columns`, representing (for each input word) its vector\n",
    "- `Word2Vec#wv.index_to_key` will return a list with all the input words. This will be useful in order to relate a vector to an actual word\n",
    "\n",
    "Also, the section [\"What can I do with word vectors?\", on gensim wiki](https://radimrehurek.com/gensim/models/keyedvectors.html#what-can-i-do-with-word-vectors) is very interesting to see the word extrapolation, but it won't be discussed in this Jupyter Notebook."
   ]
  },
  {
   "cell_type": "code",
   "execution_count": 6,
   "id": "9fa41da8",
   "metadata": {
    "scrolled": false
   },
   "outputs": [
    {
     "name": "stdout",
     "output_type": "stream",
     "text": [
      "Cluster 0: ['and', 'for', 'of', 'in', 'with', 'on', 'at', 'has', 'are', 'an']\n",
      "Cluster 1: ['can', 'would', 'will', 'don', 'does', 'could', 'did', 'doesn', 'should', 'didn']\n",
      "Cluster 2: ['about', 'after', 'two', 'over', '2', '5', 'few', '3', 'many', '1']\n",
      "Cluster 3: ['from', 'they', 'them', 'casio', 'seiko', 'these', 'invicta', 'less', 'their', 'service']\n",
      "Cluster 4: ['the', 'band', 'than', 'which', 'face', 'also', 'light', 'little', 'there', 'small']\n",
      "Cluster 5: ['to', 'have', 'you', 't', 'so', 'be', 'if', 'or', 'just', 'when']\n",
      "Cluster 6: ['great', 'like', 'good', 'nice', 'well', 'easy', 'perfect', 'better', 'beautiful', 'happy']\n",
      "Cluster 7: ['it', 'a', 'watch', 'is', 'this', 'that', 'but', 'not', 's', 'very']\n",
      "Cluster 8: ['time', 'only', 'day', 'use', 'battery', 'date', 'second', 'set', 'every', 'hand']\n",
      "Cluster 9: ['i', 'my', 'was', 'one', 'had', 'me', 'bought', 'years', 'am', 'amazon']\n"
     ]
    }
   ],
   "source": [
    "num_clusters = 10\n",
    "\n",
    "# Initalize a k-means object and use it to extract centroids\n",
    "kmeans_clustering = KMeans( n_clusters = num_clusters, n_init='auto' )\n",
    "# `fit_predict` will force each of the `word_vectors.vectors` vectors into one of the 10 clusters\n",
    "idx = kmeans_clustering.fit_predict( word_vectors.vectors )\n",
    "\n",
    "# Create a Word / Index dictionary, mapping each vocabulary word to a cluster number\n",
    "word_centroid_map = dict(list(zip( word_vectors.index_to_key, idx )))\n",
    "\n",
    "# For each cluster\n",
    "for cluster in range(num_clusters):\n",
    "    # Find all of the words for that cluster number, and print them out\n",
    "    words = []\n",
    "    for key, value in zip(list(word_centroid_map.keys()),list(word_centroid_map.values())):\n",
    "        if (value == cluster):\n",
    "            words.append(key)\n",
    "    \n",
    "    print(f\"Cluster {cluster}: {words[:10]}\")"
   ]
  },
  {
   "cell_type": "code",
   "execution_count": null,
   "id": "5f443f09",
   "metadata": {
    "scrolled": true
   },
   "outputs": [],
   "source": [
    "# @ref https://www.tensorflow.org/api_docs/python/tf/keras/utils/Sequence\n",
    "class DataGenerator(tf.keras.utils.Sequence):\n",
    "    def __init__(self, sa: SentimentAnalysis, word2vec_model: word2vec.Word2Vec, batch_size: int = 32):\n",
    "        self._vector_size = word2vec_model.wv[0].shape\n",
    "        self._reviews = [x['text'] for x in sa._reviews]\n",
    "        self._y_reviews = [int(x['score']) for x in sa._reviews]\n",
    "        self._largest_review_size = sa.largest_review_size\n",
    "        self._vectorizer = word2vec_model\n",
    "        \n",
    "        self._batch_size = batch_size\n",
    "        self._num_batches_per_epoch = -(sa.num_reviews // -batch_size) # ceil; @ref https://stackoverflow.com/a/17511341/9178470\n",
    "\n",
    "    def __len__(self) -> int:\n",
    "        return self._num_batches_per_epoch\n",
    "\n",
    "    def __getitem__(self, idx: int) -> Tuple[np.ndarray,np.ndarray]:\n",
    "        reviews_slice = self._reviews[idx*self._batch_size:(idx+1)*self._batch_size]\n",
    "        y_reviews_slice = self._y_reviews[idx*self._batch_size:(idx+1)*self._batch_size]\n",
    "        r = np.zeros(shape=( len(reviews_slice),self._largest_review_size,self._vector_size[-1] ))\n",
    "        y = np.zeros(shape=( len(reviews_slice),5 ))\n",
    "\n",
    "        for review_index,review in enumerate(reviews_slice):\n",
    "            review_offset = self._largest_review_size-len(review) # will help with the padding\n",
    "            for word_index,word in enumerate(review):\n",
    "                if word in self._vectorizer.wv: # if not, leave it as 0\n",
    "                    r[review_index,review_offset+word_index,:] = self._vectorizer.wv[word]\n",
    "            y[review_index,y_reviews_slice[review_index]-1] = 1 # the index is from 1 to 5\n",
    "\n",
    "        return (r,y)\n",
    "\n",
    "inputs = tf.keras.Input(shape=(None, SaHandler.largest_review_size, WORD2VEC_VECTOR_SIZE))\n",
    "\n",
    "model = Sequential()\n",
    "# Assuming that your input size (X.shape) is n X t X f where\n",
    "# n:Batch size\n",
    "# t: sequence length/time-steps/no:of unrollings)\n",
    "# f: Nºof feature per time-step\n",
    "# Note: input_shape=(t,f)\n",
    "# @ref https://stackoverflow.com/a/62994263/9178470\n",
    "vector_processor = Bidirectional(LSTM(INPUT_HIDDEN_DIM // 2, return_sequences=False),\n",
    "                        input_shape=(inputs.shape[-2], inputs.shape[-1]),\n",
    "                        merge_mode='concat') # concat will return n X t X <HIDDEN_DIM/2>*2 # TODO why *2 and not *<nº of LSTM>?\n",
    "model.add(vector_processor)\n",
    "for hidden_dense in DENSE_HIDDEN_DIM:\n",
    "    model.add(Dense(hidden_dense))\n",
    "model.add(Dense(5, activation='softmax'))\n",
    "#model.add(Activation('softmax'))\n",
    "model.compile(optimizer='sgd', loss='binary_crossentropy', metrics=['accuracy'])\n",
    "\n",
    "training_generator = DataGenerator(SaHandler, word2vec_model, BATCH_SIZE)\n",
    "model.fit(training_generator, epochs=EPOCHS, batch_size=BATCH_SIZE)\n",
    "\n",
    "print(training_generator[0][0].shape)\n",
    "print(training_generator[0][1].shape)\n",
    "for i,layer in enumerate(model.layers):\n",
    "    print(f\"Layer {i}: {layer.input_shape}, {layer.output_shape}\")\n"
   ]
  },
  {
   "cell_type": "markdown",
   "id": "e8183507",
   "metadata": {},
   "source": [
    "As it seems like the LSTM didn't suceed (I've tried multiple combinations of size, and none was better than 0.6) we'll try [neel aproach, on How to get vector for a sentence from the word2vec of tokens in sentence](https://stackoverflow.com/a/31738627/9178470), by making the average of Word2Vec vectors with TF-IDF."
   ]
  },
  {
   "cell_type": "code",
   "execution_count": 8,
   "id": "2d8c0e48",
   "metadata": {},
   "outputs": [
    {
     "name": "stdout",
     "output_type": "stream",
     "text": [
      "['00' '000' '0000' ... 'zwitzerland' 'zxc' 'zzzffth']\n",
      "(47849, 42034)\n",
      "(128, 400)\n",
      "Epoch 1/3\n"
     ]
    },
    {
     "name": "stderr",
     "output_type": "stream",
     "text": [
      "2023-04-03 18:59:53.925162: I tensorflow/compiler/xla/stream_executor/cuda/cuda_blas.cc:630] TensorFloat-32 will be used for the matrix multiplication. This will only be logged once.\n",
      "2023-04-03 18:59:54.889011: I tensorflow/compiler/xla/service/service.cc:173] XLA service 0x559ad84cad10 initialized for platform CUDA (this does not guarantee that XLA will be used). Devices:\n",
      "2023-04-03 18:59:54.889056: I tensorflow/compiler/xla/service/service.cc:181]   StreamExecutor device (0): NVIDIA GeForce RTX 3070, Compute Capability 8.6\n",
      "2023-04-03 18:59:55.014443: W tensorflow/compiler/xla/stream_executor/gpu/asm_compiler.cc:115] *** WARNING *** You are using ptxas 10.1.243, which is older than 11.1. ptxas before 11.1 is known to miscompile XLA code, leading to incorrect results or invalid-address errors.\n",
      "\n",
      "You may not need to update to CUDA 11.1; cherry-picking the ptxas binary is often sufficient.\n",
      "2023-04-03 18:59:55.015522: W tensorflow/compiler/xla/stream_executor/gpu/asm_compiler.cc:234] Falling back to the CUDA driver for PTX compilation; ptxas does not support CC 8.6\n",
      "2023-04-03 18:59:55.015549: W tensorflow/compiler/xla/stream_executor/gpu/asm_compiler.cc:237] Used ptxas at ptxas\n",
      "2023-04-03 18:59:55.015587: W tensorflow/compiler/xla/service/gpu/nvptx_compiler.cc:281] Couldn't read CUDA driver version.\n",
      "2023-04-03 18:59:55.015722: I tensorflow/compiler/jit/xla_compilation_cache.cc:477] Compiled cluster using XLA!  This line is logged at most once for the lifetime of the process.\n",
      "2023-04-03 18:59:55.164260: W tensorflow/compiler/xla/stream_executor/gpu/asm_compiler.cc:115] *** WARNING *** You are using ptxas 10.1.243, which is older than 11.1. ptxas before 11.1 is known to miscompile XLA code, leading to incorrect results or invalid-address errors.\n",
      "\n",
      "You may not need to update to CUDA 11.1; cherry-picking the ptxas binary is often sufficient.\n",
      "2023-04-03 18:59:55.356740: W tensorflow/compiler/xla/stream_executor/gpu/asm_compiler.cc:115] *** WARNING *** You are using ptxas 10.1.243, which is older than 11.1. ptxas before 11.1 is known to miscompile XLA code, leading to incorrect results or invalid-address errors.\n",
      "\n",
      "You may not need to update to CUDA 11.1; cherry-picking the ptxas binary is often sufficient.\n",
      "2023-04-03 18:59:55.463027: W tensorflow/compiler/xla/stream_executor/gpu/asm_compiler.cc:115] *** WARNING *** You are using ptxas 10.1.243, which is older than 11.1. ptxas before 11.1 is known to miscompile XLA code, leading to incorrect results or invalid-address errors.\n",
      "\n",
      "You may not need to update to CUDA 11.1; cherry-picking the ptxas binary is often sufficient.\n"
     ]
    },
    {
     "name": "stdout",
     "output_type": "stream",
     "text": [
      "\r",
      "  1/374 [..............................] - ETA: 13:09 - loss: 2.2876 - accuracy: 0.2109"
     ]
    },
    {
     "name": "stderr",
     "output_type": "stream",
     "text": [
      "2023-04-03 18:59:55.923056: W tensorflow/compiler/xla/stream_executor/gpu/asm_compiler.cc:115] *** WARNING *** You are using ptxas 10.1.243, which is older than 11.1. ptxas before 11.1 is known to miscompile XLA code, leading to incorrect results or invalid-address errors.\n",
      "\n",
      "You may not need to update to CUDA 11.1; cherry-picking the ptxas binary is often sufficient.\n",
      "2023-04-03 18:59:55.964230: W tensorflow/compiler/xla/stream_executor/gpu/asm_compiler.cc:115] *** WARNING *** You are using ptxas 10.1.243, which is older than 11.1. ptxas before 11.1 is known to miscompile XLA code, leading to incorrect results or invalid-address errors.\n",
      "\n",
      "You may not need to update to CUDA 11.1; cherry-picking the ptxas binary is often sufficient.\n",
      "2023-04-03 18:59:56.007570: W tensorflow/compiler/xla/stream_executor/gpu/asm_compiler.cc:115] *** WARNING *** You are using ptxas 10.1.243, which is older than 11.1. ptxas before 11.1 is known to miscompile XLA code, leading to incorrect results or invalid-address errors.\n",
      "\n",
      "You may not need to update to CUDA 11.1; cherry-picking the ptxas binary is often sufficient.\n",
      "2023-04-03 18:59:56.053317: W tensorflow/compiler/xla/stream_executor/gpu/asm_compiler.cc:115] *** WARNING *** You are using ptxas 10.1.243, which is older than 11.1. ptxas before 11.1 is known to miscompile XLA code, leading to incorrect results or invalid-address errors.\n",
      "\n",
      "You may not need to update to CUDA 11.1; cherry-picking the ptxas binary is often sufficient.\n"
     ]
    },
    {
     "name": "stdout",
     "output_type": "stream",
     "text": [
      "374/374 [==============================] - 117s 308ms/step - loss: 0.4394 - accuracy: 0.5810\n",
      "Epoch 2/3\n",
      "374/374 [==============================] - 110s 296ms/step - loss: 0.3590 - accuracy: 0.6157\n",
      "Epoch 3/3\n",
      "374/374 [==============================] - 105s 280ms/step - loss: 0.3479 - accuracy: 0.6211\n"
     ]
    },
    {
     "data": {
      "text/plain": [
       "<keras.callbacks.History at 0x7fb32afa1300>"
      ]
     },
     "execution_count": 8,
     "metadata": {},
     "output_type": "execute_result"
    }
   ],
   "source": [
    "count_vectorizer=CountVectorizer()\n",
    "counts=count_vectorizer.fit_transform([' '.join(x) for x in SaHandler.review_sentences])\n",
    "print(count_vectorizer.get_feature_names_out())\n",
    "\n",
    "transformer = TfidfTransformer()\n",
    "BoW=transformer.fit_transform(counts)\n",
    "BoW_train=BoW[:len(SaHandler.reviews),:]\n",
    "\n",
    "print(BoW_train.shape) # we'll have a vector of size <nº train data> x <nº of different words>, with the value representing the weight of that word\n",
    "\n",
    "class TfidDataGenerator(tf.keras.utils.Sequence):\n",
    "    def __init__(self, sa: SentimentAnalysis, word2vec_model: word2vec.Word2Vec, count_vectorizer: CountVectorizer, BoW: np.ndarray, batch_size: int = 32):\n",
    "        self._vector_size = word2vec_model.wv[0].shape\n",
    "        self._reviews = [x['text'] for x in sa.reviews]\n",
    "        self._y_reviews = [int(x['score']) for x in sa.reviews]\n",
    "        self._vectorizer = word2vec_model\n",
    "        self._count_vectorizer = count_vectorizer\n",
    "        self._tfid = BoW\n",
    "        \n",
    "        self._batch_size = batch_size\n",
    "        self._num_batches_per_epoch = -(sa.num_reviews // -batch_size) # ceil; @ref https://stackoverflow.com/a/17511341/9178470\n",
    "        \n",
    "        self._word_to_index = {}\n",
    "        for index, word in enumerate(self._count_vectorizer.get_feature_names_out()):\n",
    "            self._word_to_index[word] = index\n",
    "\n",
    "    def _get_count_vectorizer_index(self, searching: str) -> int:\n",
    "        r = np.where(self._count_vectorizer.get_feature_names_out() == searching)\n",
    "        if len(r[0]) == 0:\n",
    "            return None\n",
    "        return r[0][0]\n",
    "        \n",
    "    def __len__(self) -> int:\n",
    "        return self._num_batches_per_epoch\n",
    "\n",
    "    def __getitem__(self, idx: int) -> Tuple[np.ndarray,np.ndarray]:\n",
    "        offset = idx*self._batch_size\n",
    "        reviews_slice = self._reviews[offset:offset+self._batch_size]\n",
    "        y_reviews_slice = self._y_reviews[idx*self._batch_size:(idx+1)*self._batch_size]\n",
    "        r = np.zeros(shape=( len(reviews_slice),self._vector_size[-1] ))\n",
    "        y = np.zeros(shape=( len(reviews_slice),5 ))\n",
    "\n",
    "        for review_index,review in enumerate(reviews_slice):\n",
    "            BoW_train_index = review_index + offset\n",
    "\n",
    "            feature_index = self._tfid[BoW_train_index,:].nonzero()[1] # @ref https://stackoverflow.com/a/38770335/9178470\n",
    "\n",
    "            for word in review:\n",
    "                # the word must be inside the Tfid & word2vec\n",
    "                if not word in self._word_to_index: continue\n",
    "                if not word in self._vectorizer.wv: continue\n",
    "\n",
    "                r[review_index,:] += self._tfid[BoW_train_index, self._word_to_index[word]]*self._vectorizer.wv[word]\n",
    "            y[review_index,y_reviews_slice[review_index]-1] = 1 # the index is from 1 to 5\n",
    "\n",
    "        return (r,y)\n",
    "    \n",
    "training_generator = TfidDataGenerator(SaHandler, word2vec_model, count_vectorizer, BoW_train, BATCH_SIZE)\n",
    "print(str(training_generator.__getitem__(0)[0].shape)) # now we just have a BATCH_SIZE x WORD2VEC_VECTOR_SIZE input\n",
    "\n",
    "# -- building the DNN --\n",
    "model = Sequential()\n",
    "for hidden_dense in DENSE_HIDDEN_DIM:\n",
    "    model.add(Dense(hidden_dense))\n",
    "model.add(Dense(5, activation='softmax'))\n",
    "#model.add(Activation('softmax'))\n",
    "\n",
    "model.compile(optimizer='sgd', loss='binary_crossentropy', metrics=['accuracy'])\n",
    "model.fit(training_generator, epochs=EPOCHS, batch_size=BATCH_SIZE)"
   ]
  },
  {
   "cell_type": "code",
   "execution_count": null,
   "id": "247ea89e",
   "metadata": {
    "scrolled": true
   },
   "outputs": [],
   "source": []
  },
  {
   "cell_type": "code",
   "execution_count": null,
   "id": "48db9dae",
   "metadata": {},
   "outputs": [],
   "source": []
  }
 ],
 "metadata": {
  "kernelspec": {
   "display_name": "sentiment-analysis",
   "language": "python",
   "name": "sentiment-analysis"
  },
  "language_info": {
   "codemirror_mode": {
    "name": "ipython",
    "version": 3
   },
   "file_extension": ".py",
   "mimetype": "text/x-python",
   "name": "python",
   "nbconvert_exporter": "python",
   "pygments_lexer": "ipython3",
   "version": "3.10.9"
  }
 },
 "nbformat": 4,
 "nbformat_minor": 5
}
