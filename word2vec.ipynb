{
 "cells": [
  {
   "cell_type": "markdown",
   "id": "1cc79e92",
   "metadata": {},
   "source": [
    "Important: If you don't have the `word2vec.bin` file you have to run `Lab.ipynb` first."
   ]
  },
  {
   "cell_type": "code",
   "execution_count": 1,
   "id": "c8432654",
   "metadata": {},
   "outputs": [],
   "source": [
    "from gensim.models import word2vec"
   ]
  },
  {
   "cell_type": "code",
   "execution_count": 2,
   "id": "9536c4cc",
   "metadata": {},
   "outputs": [],
   "source": [
    "def load_word2vec(file_name: str) -> word2vec.Word2Vec:\n",
    "    return word2vec.Word2Vec.load(file_name)\n",
    "\n",
    "word2vec_model = load_word2vec('word2vec.bin')\n",
    "word_vectors = word2vec_model.wv"
   ]
  },
  {
   "cell_type": "code",
   "execution_count": 7,
   "id": "993545d8",
   "metadata": {},
   "outputs": [
    {
     "data": {
      "text/plain": [
       "[('workout', 0.6592332124710083),\n",
       " ('laptop', 0.651751697063446),\n",
       " ('typing', 0.6346613764762878),\n",
       " ('bike', 0.6282886862754822),\n",
       " ('motorcycle', 0.6078929901123047),\n",
       " ('desk', 0.6037561893463135),\n",
       " ('iphone', 0.5974874496459961),\n",
       " ('cooking', 0.5950629115104675),\n",
       " ('finger', 0.5929951071739197),\n",
       " ('table', 0.591008186340332)]"
      ]
     },
     "execution_count": 7,
     "metadata": {},
     "output_type": "execute_result"
    }
   ],
   "source": [
    "# @ref https://radimrehurek.com/gensim/models/word2vec.html\n",
    "word_vectors.most_similar('computer', topn=10)"
   ]
  },
  {
   "cell_type": "code",
   "execution_count": 12,
   "id": "3dd95c35",
   "metadata": {},
   "outputs": [
    {
     "name": "stdout",
     "output_type": "stream",
     "text": [
      "'I' is to 'me' 0.7980291992425919, but 'watch' is to 'restaurant' 1.046396680176258\n"
     ]
    }
   ],
   "source": [
    "# @ref https://radimrehurek.com/gensim/models/keyedvectors.html#gensim.models.keyedvectors.KeyedVectors\n",
    "print(f\"'I' is to 'me' {word_vectors.distance('i', 'me')}, but 'watch' is to 'restaurant' {word_vectors.distance('watch', 'restaurant')}\")"
   ]
  },
  {
   "cell_type": "code",
   "execution_count": 5,
   "id": "b016d4e4",
   "metadata": {},
   "outputs": [
    {
     "data": {
      "text/plain": [
       "[('miles', 0.5845972299575806),\n",
       " ('quarters', 0.5825550556182861),\n",
       " ('feet', 0.5742671489715576)]"
      ]
     },
     "execution_count": 5,
     "metadata": {},
     "output_type": "execute_result"
    }
   ],
   "source": [
    "# It works as told here: https://p.migdal.pl/2017/01/06/king-man-woman-queen-why.html/\n",
    "# @ref https://tedboy.github.io/nlps/generated/generated/gensim.models.Word2Vec.most_similar.html\n",
    "# @ref https://stackoverflow.com/a/68681997/9178470\n",
    "def get_counterword(target: str, departing_from: str, departing_to: str, num_results: int = 10):\n",
    "    return word_vectors.most_similar(positive=[target, departing_to], negative=[departing_from], topn=num_results)\n",
    "\n",
    "get_counterword(\"foot\", \"watch\", \"watches\", num_results=3)"
   ]
  },
  {
   "cell_type": "code",
   "execution_count": 16,
   "id": "f1ae4943",
   "metadata": {},
   "outputs": [
    {
     "data": {
      "text/plain": [
       "[('five', 0.7789566516876221)]"
      ]
     },
     "execution_count": 16,
     "metadata": {},
     "output_type": "execute_result"
    }
   ],
   "source": [
    "get_counterword(\"5\", \"2\", \"two\", num_results=1)"
   ]
  },
  {
   "cell_type": "code",
   "execution_count": null,
   "id": "ba4c1b9e",
   "metadata": {},
   "outputs": [],
   "source": []
  }
 ],
 "metadata": {
  "kernelspec": {
   "display_name": "Python 3 (ipykernel)",
   "language": "python",
   "name": "python3"
  },
  "language_info": {
   "codemirror_mode": {
    "name": "ipython",
    "version": 3
   },
   "file_extension": ".py",
   "mimetype": "text/x-python",
   "name": "python",
   "nbconvert_exporter": "python",
   "pygments_lexer": "ipython3",
   "version": "3.8.10"
  }
 },
 "nbformat": 4,
 "nbformat_minor": 5
}
